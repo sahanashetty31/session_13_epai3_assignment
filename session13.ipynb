{
 "cells": [
  {
   "cell_type": "markdown",
   "metadata": {},
   "source": [
    "## **Goal 1**\n",
    "\n",
    "Create a lazy iterator that will return a named tuple of the data in each row. The data types should be appropriate - i.e. if the column is a date, you should be storing dates in the named tuple, if the field is an integer, then it should be stored as an integer, etc."
   ]
  },
  {
   "cell_type": "code",
   "execution_count": 1,
   "metadata": {},
   "outputs": [],
   "source": [
    "import itertools\n",
    "import datetime\n",
    "from collections import namedtuple, defaultdict"
   ]
  },
  {
   "cell_type": "code",
   "execution_count": 2,
   "metadata": {},
   "outputs": [],
   "source": [
    "def generate_ticket():\n",
    "    \n",
    "    with open('nyc_parking_tickets_extract.csv') as f:\n",
    "        \n",
    "        def date_type(x): \n",
    "            return datetime.datetime.strptime(x, \"%m/%d/%Y\").date()\n",
    "        data_type = [int, str, str, str, date_type, int, str, str, str]\n",
    "        Car = namedtuple('Car', [x.replace(\" \", \"\") for x in next(f).strip().split(',')])\n",
    "        \n",
    "        for row in f:\n",
    "            yield Car(*(type(field) for type, field in zip(data_type, row.strip().split(','))))"
   ]
  },
  {
   "cell_type": "code",
   "execution_count": 3,
   "metadata": {},
   "outputs": [],
   "source": [
    "tickets = generate_ticket()"
   ]
  },
  {
   "cell_type": "code",
   "execution_count": 4,
   "metadata": {},
   "outputs": [
    {
     "name": "stdout",
     "output_type": "stream",
     "text": [
      "Car(SummonsNumber=4006478550, PlateID='VAD7274', RegistrationState='VA', PlateType='PAS', IssueDate=datetime.date(2016, 10, 5), ViolationCode=5, VehicleBodyType='4D', VehicleMake='BMW', ViolationDescription='BUS LANE VIOLATION')\n",
      "\n",
      "Car(SummonsNumber=4006462396, PlateID='22834JK', RegistrationState='NY', PlateType='COM', IssueDate=datetime.date(2016, 9, 30), ViolationCode=5, VehicleBodyType='VAN', VehicleMake='CHEVR', ViolationDescription='BUS LANE VIOLATION')\n",
      "\n",
      "Car(SummonsNumber=4007117810, PlateID='21791MG', RegistrationState='NY', PlateType='COM', IssueDate=datetime.date(2017, 4, 10), ViolationCode=5, VehicleBodyType='VAN', VehicleMake='DODGE', ViolationDescription='BUS LANE VIOLATION')\n",
      "\n",
      "Car(SummonsNumber=4006265037, PlateID='FZX9232', RegistrationState='NY', PlateType='PAS', IssueDate=datetime.date(2016, 8, 23), ViolationCode=5, VehicleBodyType='SUBN', VehicleMake='FORD', ViolationDescription='BUS LANE VIOLATION')\n",
      "\n",
      "Car(SummonsNumber=4006535600, PlateID='N203399C', RegistrationState='NY', PlateType='OMT', IssueDate=datetime.date(2016, 10, 19), ViolationCode=5, VehicleBodyType='SUBN', VehicleMake='FORD', ViolationDescription='BUS LANE VIOLATION')\n",
      "\n",
      "Car(SummonsNumber=4007156700, PlateID='92163MG', RegistrationState='NY', PlateType='COM', IssueDate=datetime.date(2017, 4, 13), ViolationCode=5, VehicleBodyType='VAN', VehicleMake='FRUEH', ViolationDescription='BUS LANE VIOLATION')\n",
      "\n",
      "Car(SummonsNumber=4006687989, PlateID='MIQ600', RegistrationState='SC', PlateType='PAS', IssueDate=datetime.date(2016, 11, 21), ViolationCode=5, VehicleBodyType='VN', VehicleMake='HONDA', ViolationDescription='BUS LANE VIOLATION')\n",
      "\n",
      "Car(SummonsNumber=4006943052, PlateID='2AE3984', RegistrationState='MD', PlateType='PAS', IssueDate=datetime.date(2017, 2, 1), ViolationCode=5, VehicleBodyType='SW', VehicleMake='LINCO', ViolationDescription='BUS LANE VIOLATION')\n",
      "\n",
      "Car(SummonsNumber=4007306795, PlateID='HLG4926', RegistrationState='NY', PlateType='PAS', IssueDate=datetime.date(2017, 5, 30), ViolationCode=5, VehicleBodyType='SUBN', VehicleMake='TOYOT', ViolationDescription='BUS LANE VIOLATION')\n",
      "\n",
      "Car(SummonsNumber=4007124590, PlateID='T715907C', RegistrationState='NY', PlateType='OMT', IssueDate=datetime.date(2017, 4, 3), ViolationCode=5, VehicleBodyType='SUBN', VehicleMake='TOYOT', ViolationDescription='BUS LANE VIOLATION')\n",
      "\n",
      "Car(SummonsNumber=5096061966, PlateID='HRC9475', RegistrationState='NY', PlateType='PAS', IssueDate=datetime.date(2017, 4, 18), ViolationCode=7, VehicleBodyType='SUBN', VehicleMake='CADIL', ViolationDescription='FAILURE TO STOP AT RED LIGHT')\n",
      "\n",
      "Car(SummonsNumber=5094070400, PlateID='DYP8042', RegistrationState='NY', PlateType='PAS', IssueDate=datetime.date(2016, 10, 26), ViolationCode=7, VehicleBodyType='SUBN', VehicleMake='CHEVR', ViolationDescription='FAILURE TO STOP AT RED LIGHT')\n",
      "\n",
      "Car(SummonsNumber=5094906770, PlateID='G30ESY', RegistrationState='NJ', PlateType='PAS', IssueDate=datetime.date(2017, 1, 1), ViolationCode=7, VehicleBodyType='WAGO', VehicleMake='CHRYS', ViolationDescription='FAILURE TO STOP AT RED LIGHT')\n",
      "\n",
      "Car(SummonsNumber=5093319363, PlateID='GGT8868', RegistrationState='NY', PlateType='PAS', IssueDate=datetime.date(2016, 9, 6), ViolationCode=7, VehicleBodyType='SUBN', VehicleMake='CHRYS', ViolationDescription='FAILURE TO STOP AT RED LIGHT')\n",
      "\n",
      "Car(SummonsNumber=5092638849, PlateID='107DDD', RegistrationState='NY', PlateType='SPO', IssueDate=datetime.date(2016, 7, 20), ViolationCode=7, VehicleBodyType='SUBN', VehicleMake='DODGE', ViolationDescription='FAILURE TO STOP AT RED LIGHT')\n",
      "\n",
      "Car(SummonsNumber=5093455337, PlateID='ENQT55', RegistrationState='FL', PlateType='PAS', IssueDate=datetime.date(2016, 9, 12), ViolationCode=7, VehicleBodyType='VN', VehicleMake='DODGE', ViolationDescription='FAILURE TO STOP AT RED LIGHT')\n",
      "\n",
      "Car(SummonsNumber=5094961366, PlateID='GSU4156', RegistrationState='OH', PlateType='PAS', IssueDate=datetime.date(2017, 1, 7), ViolationCode=7, VehicleBodyType='4S', VehicleMake='DODGE', ViolationDescription='FAILURE TO STOP AT RED LIGHT')\n",
      "\n",
      "Car(SummonsNumber=5092906534, PlateID='V84FXV', RegistrationState='NJ', PlateType='PAS', IssueDate=datetime.date(2016, 8, 7), ViolationCode=7, VehicleBodyType='WAGO', VehicleMake='FIR', ViolationDescription='FAILURE TO STOP AT RED LIGHT')\n",
      "\n",
      "Car(SummonsNumber=5093620865, PlateID='AD80228', RegistrationState='AZ', PlateType='PAS', IssueDate=datetime.date(2016, 9, 24), ViolationCode=7, VehicleBodyType='TK', VehicleMake='FORD', ViolationDescription='FAILURE TO STOP AT RED LIGHT')\n",
      "\n",
      "Car(SummonsNumber=5092733548, PlateID='EVX4041', RegistrationState='NY', PlateType='PAS', IssueDate=datetime.date(2016, 7, 26), ViolationCode=7, VehicleBodyType='SUBN', VehicleMake='FORD', ViolationDescription='FAILURE TO STOP AT RED LIGHT')\n",
      "\n"
     ]
    }
   ],
   "source": [
    "for _ in range(20):\n",
    "    print(next(tickets))\n",
    "    print('')"
   ]
  },
  {
   "cell_type": "markdown",
   "metadata": {},
   "source": [
    "\n",
    "### **Goal 2**\n",
    "\n",
    "Calculate the number of violations by car make."
   ]
  },
  {
   "cell_type": "code",
   "execution_count": 5,
   "metadata": {},
   "outputs": [],
   "source": [
    "def violations_by_car(generator):\n",
    "    car_makes = defaultdict(int)\n",
    "\n",
    "    for ticket in generate_ticket():\n",
    "        if ticket.VehicleMake:\n",
    "            car_makes[ticket.VehicleMake] += 1\n",
    "\n",
    "    yield from sorted(car_makes.items(), key=lambda x: x[1], reverse=True)"
   ]
  },
  {
   "cell_type": "code",
   "execution_count": 6,
   "metadata": {},
   "outputs": [],
   "source": [
    "car_tickets = generate_ticket()"
   ]
  },
  {
   "cell_type": "code",
   "execution_count": 7,
   "metadata": {},
   "outputs": [],
   "source": [
    "violations = violations_by_car(car_tickets)"
   ]
  },
  {
   "cell_type": "code",
   "execution_count": 8,
   "metadata": {},
   "outputs": [
    {
     "name": "stdout",
     "output_type": "stream",
     "text": [
      "('TOYOT', 112)\n",
      "('HONDA', 106)\n",
      "('FORD', 104)\n",
      "('CHEVR', 76)\n",
      "('NISSA', 70)\n",
      "('DODGE', 45)\n",
      "('FRUEH', 44)\n",
      "('ME/BE', 38)\n",
      "('GMC', 35)\n",
      "('HYUND', 35)\n",
      "('BMW', 34)\n",
      "('LEXUS', 26)\n",
      "('INTER', 25)\n",
      "('JEEP', 22)\n",
      "('NS/OT', 18)\n",
      "('SUBAR', 18)\n",
      "('INFIN', 13)\n",
      "('LINCO', 12)\n",
      "('CHRYS', 12)\n",
      "('ACURA', 12)\n",
      "('AUDI', 12)\n",
      "('VOLVO', 12)\n",
      "('MITSU', 11)\n",
      "('ISUZU', 10)\n",
      "('CADIL', 9)\n",
      "('KIA', 8)\n",
      "('VOLKS', 8)\n",
      "('HIN', 6)\n",
      "('KENWO', 5)\n",
      "('ROVER', 5)\n",
      "('BUICK', 5)\n",
      "('MAZDA', 5)\n",
      "('MERCU', 4)\n",
      "('JAGUA', 3)\n",
      "('SMART', 3)\n",
      "('PORSC', 3)\n",
      "('WORKH', 2)\n",
      "('SATUR', 2)\n",
      "('SCION', 2)\n",
      "('SAAB', 2)\n",
      "('HINO', 2)\n",
      "('FIR', 1)\n",
      "('OLDSM', 1)\n",
      "('PETER', 1)\n",
      "('CITRO', 1)\n",
      "('GEO', 1)\n",
      "('YAMAH', 1)\n",
      "('BSA', 1)\n",
      "('MINI', 1)\n",
      "('PONTI', 1)\n",
      "('SPRI', 1)\n",
      "('PLYMO', 1)\n",
      "('UPS', 1)\n",
      "('FIAT', 1)\n",
      "('UD', 1)\n",
      "('UTILI', 1)\n",
      "('GMCQ', 1)\n",
      "('STAR', 1)\n",
      "('AM/T', 1)\n",
      "('MI/F', 1)\n"
     ]
    }
   ],
   "source": [
    "for i in violations:\n",
    "    print(i)"
   ]
  }
 ],
 "metadata": {
  "interpreter": {
   "hash": "30295c5bec572e859485b1ffa5e89b8b3e2022ef6e3e739c1ac40f143a557caf"
  },
  "kernelspec": {
   "display_name": "Python 3",
   "language": "python",
   "name": "python3"
  },
  "language_info": {
   "codemirror_mode": {
    "name": "ipython",
    "version": 3
   },
   "file_extension": ".py",
   "mimetype": "text/x-python",
   "name": "python",
   "nbconvert_exporter": "python",
   "pygments_lexer": "ipython3",
   "version": "3.8.10"
  }
 },
 "nbformat": 4,
 "nbformat_minor": 4
}
